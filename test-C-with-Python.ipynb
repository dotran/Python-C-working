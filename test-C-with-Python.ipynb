{
 "metadata": {
  "name": "test-C-with-Python"
 },
 "nbformat": 3,
 "nbformat_minor": 0,
 "worksheets": [
  {
   "cells": [
    {
     "cell_type": "code",
     "collapsed": false,
     "input": [
      "%%file C-src/myheaders.h\n",
      "#ifndef MYHEADERS_H\n",
      "#define MYHEADERS_H\n",
      "\n",
      "#ifdef __cplusplus\n",
      "extern \"C\" {\n",
      "#endif\n",
      "\n",
      "void myHello(int n);\n",
      "double myDprod(double *x, int n);\n",
      "void myDcumsum(double *y, double *x, int n);\n",
      "\n",
      "#ifdef __cplusplus\n",
      "}\n",
      "#endif\n",
      "\n",
      "#endif /* MYHEADERS_H */\n"
     ],
     "language": "python",
     "metadata": {},
     "outputs": [
      {
       "output_type": "stream",
       "stream": "stdout",
       "text": [
        "Writing C-src/myheaders.h"
       ]
      },
      {
       "output_type": "stream",
       "stream": "stdout",
       "text": [
        "\n"
       ]
      }
     ],
     "prompt_number": 151
    },
    {
     "cell_type": "code",
     "collapsed": false,
     "input": [
      "%%file C-src/myhello.c\n",
      "// This is my simple code written in C\n",
      "#include <stdio.h>\n",
      "#include \"myheaders.h\"\n",
      "\n",
      "#ifdef __cplusplus\n",
      "extern \"C\" {\n",
      "#endif\n",
      "\n",
      "void myHello(int n) {\n",
      "    for (int i = 0; i < n; i++)\n",
      "        printf(\"C says hello to Do!\\n\");\n",
      "}\n",
      "\n",
      "#ifdef __cplusplus\n",
      "}\n",
      "#endif\n"
     ],
     "language": "python",
     "metadata": {},
     "outputs": [
      {
       "output_type": "stream",
       "stream": "stdout",
       "text": [
        "Overwriting C-src/myhello.c\n"
       ]
      }
     ],
     "prompt_number": 168
    },
    {
     "cell_type": "code",
     "collapsed": false,
     "input": [
      "%%file C-src/myhello.c\n",
      "// This is my simple code written in C\n",
      "#include <stdio.h>\n",
      "#include \"myheaders.h\"\n",
      "\n",
      "#ifdef __cplusplus\n",
      "extern \"C\" {\n",
      "#endif\n",
      "\n",
      "void myHello(int n) {\n",
      "    for (int i = 0; i < n; i++)\n",
      "        printf(\"C says hello to Do!\\n\");\n",
      "}\n",
      "\n",
      "#ifdef __cplusplus\n",
      "}\n",
      "#endif"
     ],
     "language": "python",
     "metadata": {},
     "outputs": []
    },
    {
     "cell_type": "code",
     "collapsed": false,
     "input": [
      "%%file C-src/mygreeting.c\n",
      "// This is my computational code written in C\n",
      "#include <iostream>\n",
      "// #include \"myheaders.h\n",
      "\n",
      "class myClass{\n",
      "    public:\n",
      "        void greeting(){\n",
      "            std::cout << \"Linh says Hello World!\" << std::endl;\n",
      "        }\n",
      "};\n",
      "\n",
      "extern \"C\" {\n",
      "    myClass* myNewClass() {\n",
      "        return new myClass();\n",
      "    }\n",
      "\n",
      "    void myNewGreeting(myClass* myGreetingClass) {\n",
      "        myGreetingClass->greeting();\n",
      "    }\n",
      "}\n"
     ],
     "language": "python",
     "metadata": {},
     "outputs": [
      {
       "output_type": "stream",
       "stream": "stdout",
       "text": [
        "Overwriting C-src/mygreeting.cpp\n"
       ]
      }
     ],
     "prompt_number": 192
    },
    {
     "cell_type": "code",
     "collapsed": false,
     "input": [
      "!make"
     ],
     "language": "python",
     "metadata": {},
     "outputs": [
      {
       "output_type": "stream",
       "stream": "stdout",
       "text": [
        "g++ -c -Wall -O3 C-src/mygreeting.c -fPIC  -o C-src/mygreeting.o\r\n"
       ]
      },
      {
       "output_type": "stream",
       "stream": "stdout",
       "text": [
        "g++ -shared C-src/myhello.o C-src/mycalc.o C-src/mygreeting.o -o libmyCfuncs.so -Wl,-soname\r\n",
        "C-src/mygreeting.o: In function `myNewClass':\r\n",
        "mygreeting.c:(.text+0x0): multiple definition of `myNewClass'\r\n",
        "C-src/mycalc.o:mycalc.c:(.text+0x0): first defined here\r\n",
        "C-src/mygreeting.o: In function `myNewGreeting':\r\n",
        "mygreeting.c:(.text+0x10): multiple definition of `myNewGreeting'\r\n",
        "C-src/mycalc.o:mycalc.c:(.text+0x10): first defined here\r\n",
        "collect2: ld returned 1 exit status\r\n",
        "make: *** [libmyCfuncs.so] Error 1\r\n"
       ]
      }
     ],
     "prompt_number": 190
    },
    {
     "cell_type": "code",
     "collapsed": false,
     "input": [
      "!file libmyCfuncs.so"
     ],
     "language": "python",
     "metadata": {},
     "outputs": [
      {
       "output_type": "stream",
       "stream": "stdout",
       "text": [
        "libmyCfuncs.so: ELF 64-bit LSB shared object, x86-64, version 1 (SYSV), dynamically linked, BuildID[sha1]=0x4d63b3bf2d397e6f6270bc4c636dd2faf89fc59b, not stripped\r\n"
       ]
      }
     ],
     "prompt_number": 173
    },
    {
     "cell_type": "code",
     "collapsed": false,
     "input": [
      "!nm C-src/myhello.o"
     ],
     "language": "python",
     "metadata": {},
     "outputs": [
      {
       "output_type": "stream",
       "stream": "stdout",
       "text": [
        "0000000000000000 r .LC0\r\n",
        "                 U _GLOBAL_OFFSET_TABLE_\r\n",
        "0000000000000000 T myHello\r\n",
        "                 U puts\r\n"
       ]
      }
     ],
     "prompt_number": 174
    },
    {
     "cell_type": "code",
     "collapsed": false,
     "input": [
      "!nm C-src/mycalc.o"
     ],
     "language": "python",
     "metadata": {},
     "outputs": [
      {
       "output_type": "stream",
       "stream": "stdout",
       "text": [
        "0000000000000000 r .LC0\r\n",
        "0000000000000020 T myDcumsum\r\n",
        "0000000000000000 T myDprod\r\n"
       ]
      }
     ],
     "prompt_number": 171
    },
    {
     "cell_type": "code",
     "collapsed": false,
     "input": [
      "%%file myCwrapper.py\n",
      "\n",
      "import numpy\n",
      "import ctypes # from ctypes import *\n",
      "\n",
      "_libmyCfuncs = numpy.ctypeslib.load_library('libmyCfuncs', '.')\n",
      "\n",
      "_libmyCfuncs.myHello.argtypes = [ctypes.c_int]\n",
      "_libmyCfuncs.myHello.restype  = ctypes.c_void_p\n",
      "\n",
      "_libmyCfuncs.myDprod.argtypes = [numpy.ctypeslib.ndpointer(dtype=numpy.float), ctypes.c_int]\n",
      "_libmyCfuncs.myDprod.restype  = ctypes.c_double\n",
      "\n",
      "_libmyCfuncs.myDcumsum.argtypes = [numpy.ctypeslib.ndpointer(dtype=numpy.float),\n",
      "                                    numpy.ctypeslib.ndpointer(dtype=numpy.float),\n",
      "                                    ctypes.c_int]\n",
      "_libmyCfuncs.myDcumsum.restype  = ctypes.c_void_p\n",
      "\n",
      "def callHello(n):\n",
      "    return _libmyCfuncs.myHello(int(n))\n",
      "\n",
      "def callDprod(x, n=None):\n",
      "    if n is None:\n",
      "        n = len(x)\n",
      "    x = numpy.asarray(x, dtype=numpy.float) # declare array x, but not explicitly allocate memory???\n",
      "    return _libmyCfuncs.myDprod(x, int(n)) # send the pointer to x to the called function\n",
      "\n",
      "def callDcumsum(a, n):\n",
      "    a = numpy.asarray(a, dtype=numpy.float)\n",
      "    b = numpy.empty(len(a), dtype=numpy.float) # what is this? Allocate memory for array b???\n",
      "    _libmyCfuncs.myDcumsum(b, a, int(n))\n",
      "    return b\n"
     ],
     "language": "python",
     "metadata": {},
     "outputs": [
      {
       "output_type": "stream",
       "stream": "stdout",
       "text": [
        "Overwriting myCwrapper.py"
       ]
      },
      {
       "output_type": "stream",
       "stream": "stdout",
       "text": [
        "\n"
       ]
      }
     ],
     "prompt_number": 164
    },
    {
     "cell_type": "code",
     "collapsed": false,
     "input": [
      "%%file test_hello_c.py\n",
      "\n",
      "import myCwrapper\n",
      "\n",
      "myCwrapper.callHello(4)\n"
     ],
     "language": "python",
     "metadata": {},
     "outputs": [
      {
       "output_type": "stream",
       "stream": "stdout",
       "text": [
        "Overwriting test_hello_c.py\n"
       ]
      }
     ],
     "prompt_number": 165
    },
    {
     "cell_type": "code",
     "collapsed": false,
     "input": [
      "!python test_hello_c.py # this is fine, because it is executed from the shell"
     ],
     "language": "python",
     "metadata": {},
     "outputs": [
      {
       "output_type": "stream",
       "stream": "stdout",
       "text": [
        "C says hello to Do!\r\n",
        "C says hello to Do!\r\n",
        "C says hello to Do!\r\n",
        "C says hello to Do!\r\n"
       ]
      }
     ],
     "prompt_number": 172
    },
    {
     "cell_type": "code",
     "collapsed": false,
     "input": [
      "import myCwrapper"
     ],
     "language": "python",
     "metadata": {},
     "outputs": [],
     "prompt_number": 76
    },
    {
     "cell_type": "code",
     "collapsed": false,
     "input": [
      "myCwrapper.callHello(3) # NOT good, as printf of C is called from IPython (thus print to the Terminal)"
     ],
     "language": "python",
     "metadata": {},
     "outputs": [
      {
       "output_type": "pyout",
       "prompt_number": 156,
       "text": [
        "20"
       ]
      }
     ],
     "prompt_number": 156
    },
    {
     "cell_type": "code",
     "collapsed": false,
     "input": [
      "a = rand(4);\n",
      "print myCwrapper.callDprod(a)\n",
      "print a.prod()\n",
      "type(a)"
     ],
     "language": "python",
     "metadata": {},
     "outputs": [
      {
       "output_type": "stream",
       "stream": "stdout",
       "text": [
        "0.0370114171957\n",
        "0.0370114171957\n"
       ]
      },
      {
       "output_type": "pyout",
       "prompt_number": 136,
       "text": [
        "numpy.ndarray"
       ]
      }
     ],
     "prompt_number": 136
    },
    {
     "cell_type": "code",
     "collapsed": false,
     "input": [
      "a = rand(100000)"
     ],
     "language": "python",
     "metadata": {},
     "outputs": [],
     "prompt_number": 146
    },
    {
     "cell_type": "code",
     "collapsed": false,
     "input": [
      "timeit myCwrapper.callDprod(a)"
     ],
     "language": "python",
     "metadata": {},
     "outputs": [
      {
       "output_type": "stream",
       "stream": "stdout",
       "text": [
        "1000 loops, best of 3: 606 us per loop\n"
       ]
      }
     ],
     "prompt_number": 147
    },
    {
     "cell_type": "code",
     "collapsed": false,
     "input": [
      "timeit a.prod()"
     ],
     "language": "python",
     "metadata": {},
     "outputs": [
      {
       "output_type": "stream",
       "stream": "stdout",
       "text": [
        "1000 loops, best of 3: 570 us per loop\n"
       ]
      }
     ],
     "prompt_number": 148
    },
    {
     "cell_type": "code",
     "collapsed": false,
     "input": [
      "a"
     ],
     "language": "python",
     "metadata": {},
     "outputs": [
      {
       "output_type": "pyout",
       "prompt_number": 86,
       "text": [
        "array([ 0.78992815,  0.76336863,  0.35772226,  0.17042655,  0.84998516,\n",
        "        0.98256835,  0.2762511 ,  0.99617038,  0.99905779,  0.9535188 ])"
       ]
      }
     ],
     "prompt_number": 86
    },
    {
     "cell_type": "code",
     "collapsed": false,
     "input": [
      "print a"
     ],
     "language": "python",
     "metadata": {},
     "outputs": [
      {
       "output_type": "stream",
       "stream": "stdout",
       "text": [
        "[ 0.78992815  0.76336863  0.35772226  0.17042655  0.84998516  0.98256835\n",
        "  0.2762511   0.99617038  0.99905779  0.9535188 ]"
       ]
      },
      {
       "output_type": "stream",
       "stream": "stdout",
       "text": [
        "\n"
       ]
      }
     ],
     "prompt_number": 87
    },
    {
     "cell_type": "code",
     "collapsed": false,
     "input": [
      "b = 1 + (10-1)*rand(20)"
     ],
     "language": "python",
     "metadata": {},
     "outputs": [],
     "prompt_number": 92
    },
    {
     "cell_type": "code",
     "collapsed": false,
     "input": [
      "b"
     ],
     "language": "python",
     "metadata": {},
     "outputs": [
      {
       "output_type": "pyout",
       "prompt_number": 93,
       "text": [
        "array([ 8.53849258,  8.61994845,  3.92551064,  2.67059558,  7.85630009,\n",
        "        5.72751334,  6.51882637,  4.8080976 ,  1.18109169,  7.58578708,\n",
        "        9.6279797 ,  9.27712826,  6.53042606,  9.31224423,  5.73845031,\n",
        "        8.12437886,  8.64362406,  1.25462922,  7.50686102,  7.2332971 ])"
       ]
      }
     ],
     "prompt_number": 93
    },
    {
     "cell_type": "code",
     "collapsed": false,
     "input": [
      "c = randn(10000)"
     ],
     "language": "python",
     "metadata": {},
     "outputs": [],
     "prompt_number": 112
    },
    {
     "cell_type": "code",
     "collapsed": false,
     "input": [
      "hist(c, bins=30);"
     ],
     "language": "python",
     "metadata": {},
     "outputs": [
      {
       "output_type": "display_data",
       "png": "[encoded data removed]"
      }
     ],
     "prompt_number": 113
    },
    {
     "cell_type": "code",
     "collapsed": false,
     "input": [],
     "language": "python",
     "metadata": {},
     "outputs": []
    }
   ],
   "metadata": {}
  }
 ]
}